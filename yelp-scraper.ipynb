{
 "cells": [
  {
   "cell_type": "code",
   "execution_count": 1,
   "metadata": {},
   "outputs": [],
   "source": [
    "import requests\n",
    "from bs4 import BeautifulSoup\n",
    "import pandas as pd"
   ]
  },
  {
   "cell_type": "code",
   "execution_count": 3,
   "metadata": {},
   "outputs": [
    {
     "data": {
      "text/plain": [
       "<Response [200]>"
      ]
     },
     "execution_count": 3,
     "metadata": {},
     "output_type": "execute_result"
    }
   ],
   "source": [
    "response = requests.get('https://www.yelp.com/search?find_desc=Doctors&find_loc=Miami, FLorida')\n",
    "response"
   ]
  },
  {
   "cell_type": "code",
   "execution_count": 7,
   "metadata": {},
   "outputs": [],
   "source": [
    "soup = BeautifulSoup(response.text, 'html.parser')\n",
    "cards = soup.select('.padding-l3__09f24__IOjKY')"
   ]
  },
  {
   "cell_type": "code",
   "execution_count": 27,
   "metadata": {},
   "outputs": [],
   "source": [
    "name = cards[0].select_one('.css-1m051bw').text\n",
    "link = 'https://www.yelp.com' + cards[0].select_one('.css-1m051bw')['href']\n",
    "tags = cards[0].select('.css-11bijt4')\n",
    "tags = [t.text for t in tags]\n",
    "rate = cards[0].select_one('.css-gutk1c').text\n",
    "reviews = cards[0].select_one('.css-chan6m').text.replace('(','').replace(')', '')"
   ]
  },
  {
   "cell_type": "code",
   "execution_count": 40,
   "metadata": {},
   "outputs": [],
   "source": [
    "response = requests.get('https://www.yelp.com/biz/healthcare-now-miami-2?osq=Doctors')\n",
    "soup = BeautifulSoup(response.text, 'html.parser')\n",
    "bar = soup.select_one('.stickySidebar__09f24__wATYu')"
   ]
  },
  {
   "cell_type": "code",
   "execution_count": 43,
   "metadata": {},
   "outputs": [
    {
     "data": {
      "text/plain": [
       "('https://yourhealthcarenow.com',\n",
       " '2575 SW 67th Ave Miami, FL 33155',\n",
       " '(305) 266-2424')"
      ]
     },
     "execution_count": 43,
     "metadata": {},
     "output_type": "execute_result"
    }
   ],
   "source": [
    "phone1 = bar.select_one('.border-color--default__09f24__NPAKY+ .border--top__09f24__exYYb .css-na3oda+ .css-1p9ibgf').text\n",
    "#phone = bar.select_one('.css-na3oda+ .css-1p9ibgf').text\n",
    "address = bar.select_one('.css-qyp8bo').text\n",
    "website = bar.select_one('.css-na3oda+ .css-1p9ibgf .css-1um3nx').text\n",
    "website, address, phone1"
   ]
  },
  {
   "cell_type": "markdown",
   "metadata": {},
   "source": [
    "## Thank you"
   ]
  }
 ],
 "metadata": {
  "kernelspec": {
   "display_name": "Python 3.10.6 ('khaliq')",
   "language": "python",
   "name": "python3"
  },
  "language_info": {
   "codemirror_mode": {
    "name": "ipython",
    "version": 3
   },
   "file_extension": ".py",
   "mimetype": "text/x-python",
   "name": "python",
   "nbconvert_exporter": "python",
   "pygments_lexer": "ipython3",
   "version": "3.10.6"
  },
  "orig_nbformat": 4,
  "vscode": {
   "interpreter": {
    "hash": "f083f4f62c7ff79ae1066b6303fc95835897d0a126dd6ae7a42191c9ceef673f"
   }
  }
 },
 "nbformat": 4,
 "nbformat_minor": 2
}
